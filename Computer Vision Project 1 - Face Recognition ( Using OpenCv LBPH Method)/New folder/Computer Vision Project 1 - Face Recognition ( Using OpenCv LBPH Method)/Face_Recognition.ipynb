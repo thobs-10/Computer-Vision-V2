{
 "cells": [
  {
   "cell_type": "markdown",
   "id": "53de3c07",
   "metadata": {},
   "source": [
    "# Facial Recognition"
   ]
  },
  {
   "cell_type": "markdown",
   "id": "87df0441",
   "metadata": {},
   "source": [
    "How LBPH operation works:\n",
    "\n",
    "- The method gets the training image and uses a sliding window operation to get all the pixels and try to create an intermediate image that looks similar or is a replica of the original by using the features it got from the training image/data. What essentially happens is,  the model gets an image and from that image it tries to get every pixel of the image and gets the pixels of the features. Through that it sets a threshold for pixels, where it says pixels under the specified threshold are not important and pixels that are greater than the threshold are important.\n",
    "\n",
    "- The pixels which are regarded as important are labeled 1 and the non important one are labeled 0. The model cannot take all the features from the image and flag them as important because by doing that it will make the model hard to perform facial recognition. So after the threshold step all the pixels are converted to binary values.\n"
   ]
  },
  {
   "cell_type": "markdown",
   "id": "7db9f7ff",
   "metadata": {},
   "source": [
    "### Import libraries"
   ]
  },
  {
   "cell_type": "code",
   "execution_count": 1,
   "id": "628ce5eb",
   "metadata": {},
   "outputs": [],
   "source": [
    "import numpy as np\n",
    "import pandas as pd\n",
    "import cv2 # to convert any image to pixel form\n",
    "import os "
   ]
  },
  {
   "cell_type": "markdown",
   "id": "1d1d86dc",
   "metadata": {},
   "source": [
    "#### Detect the face"
   ]
  },
  {
   "cell_type": "code",
   "execution_count": 12,
   "id": "cec6d584",
   "metadata": {
    "scrolled": true
   },
   "outputs": [],
   "source": [
    "#!pip install --force-reinstall opencv-contrib-python"
   ]
  },
  {
   "cell_type": "code",
   "execution_count": 13,
   "id": "ae718bfb",
   "metadata": {},
   "outputs": [],
   "source": [
    "#!pip install opencv-python"
   ]
  },
  {
   "cell_type": "code",
   "execution_count": 14,
   "id": "33386f6f",
   "metadata": {},
   "outputs": [],
   "source": [
    "def face_detection(input_img):\n",
    "    '''detect an image from an input image or from a video'''\n",
    "    # convert the image to grayscale\n",
    "    gray_img = cv2.cvtColor(input_img, cv2.COLOR_BGR2GRAY)\n",
    "    # to detect the face from the gray image\n",
    "    # NB: Download haarcascade_frontalface_alt it is an xml file and place it anywhere you want so you can access that file\n",
    "    face_haar = cv2.CascadeClassifier(r\"C:\\Users\\Cash Crusaders\\anaconda3\\Lib\\site-packages\\cv2\\data\\haarcascade_frontalface_alt.xml\")\n",
    "    # from that omage we gonna extract the face\n",
    "    # scale factor scaales down the image so that it can detect the face properly from the whole image\n",
    "    faces = face_haar.detectMultiScale(gray_img, scaleFactor = 1.2, minNeighbors = 3)\n",
    "    return faces, gray_img\n",
    "    "
   ]
  },
  {
   "cell_type": "code",
   "execution_count": 15,
   "id": "f4b8f7e3",
   "metadata": {},
   "outputs": [
    {
     "data": {
      "text/plain": [
       "(array([[241,  52, 209, 209]]),\n",
       " array([[171, 174, 176, ..., 107, 108, 106],\n",
       "        [171, 173, 174, ..., 105, 105, 103],\n",
       "        [170, 172, 173, ..., 104, 103, 100],\n",
       "        ...,\n",
       "        [ 44,  46,  51, ...,  60,  59,  57],\n",
       "        [ 44,  44,  48, ...,  61,  59,  57],\n",
       "        [ 41,  41,  45, ...,  61,  60,  57]], dtype=uint8))"
      ]
     },
     "execution_count": 15,
     "metadata": {},
     "output_type": "execute_result"
    }
   ],
   "source": [
    "# test the method by inputing the a random picture that has a face in it.\n",
    "face_detection(cv2.imread(r'dataset\\test_images\\image0000.jpg'))"
   ]
  },
  {
   "cell_type": "markdown",
   "id": "676d8c2f",
   "metadata": {},
   "source": [
    "#### Creating labels for training data"
   ]
  },
  {
   "cell_type": "code",
   "execution_count": 16,
   "id": "0fccf5be",
   "metadata": {},
   "outputs": [],
   "source": [
    "# NB: FIRST CREATE IMAGES TO TRAIN THE MODEL, CREATE DATASET FROM WEBCAM"
   ]
  },
  {
   "cell_type": "code",
   "execution_count": 17,
   "id": "897e7d6c",
   "metadata": {},
   "outputs": [],
   "source": [
    "def labels_for_training_data(directory):\n",
    "    '''create labels from the pictures taken using the webcam'''\n",
    "    faces = [] \n",
    "    faceID = []\n",
    "    \n",
    "    for path, subdirnames, filenames in os.walk(directory): # fiilenames are the  images in the 0 folder\n",
    "        for filename in filenames:\n",
    "            if filename.startswith(\".\"): # if anything starts with a dot then it is an error\n",
    "                print(\"Skipping the system file\")\n",
    "                continue\n",
    "            id = os.path.basename(path) # get the image path\n",
    "            img_path = os.path.join(path, filename) # join it witth the filename\n",
    "            print(\"img_path\", img_path)\n",
    "            print(\"id: \", id)\n",
    "            input_img = cv2.imread(img_path) # read the joined image of path and filename\n",
    "            if input_img is None: # if the image directory is empoty\n",
    "                print(\"Not loaded properly\")\n",
    "                continue\n",
    "            # if the files are there, label them\n",
    "            faces_rect, gray_img = face_detection(input_img) # make rectangle on this face from the gray image, on that rect angle do something\n",
    "            (x, y, w, h) = faces_rect[0] # make the rectangle, because the my images are in zero, for someone else their images will be in 1 or another number\n",
    "            roi_gray = gray_img[y:y+w, x:x+h] # decllare the sides of the box \n",
    "            faces.append(roi_gray) \n",
    "            faceID.append(int(id))\n",
    "    return faces, faceID\n",
    "            \n",
    "            "
   ]
  },
  {
   "cell_type": "markdown",
   "id": "79a8028d",
   "metadata": {},
   "source": [
    "#### Training the Classifier"
   ]
  },
  {
   "cell_type": "code",
   "execution_count": 18,
   "id": "17e9b12d",
   "metadata": {},
   "outputs": [],
   "source": [
    "def train_classifier(faces, faceID):\n",
    "    '''train the model to recognize the faces'''\n",
    "    face_recognizer = cv2.face.LBPHFaceRecognizer_create()\n",
    "    face_recognizer.train(faces, np.array(faceID)) # the face id of the person is associated with the image of that person\n",
    "    return face_recognizer"
   ]
  },
  {
   "cell_type": "markdown",
   "id": "db68ee35",
   "metadata": {},
   "source": [
    "#### Drawing a Rectangle on the face "
   ]
  },
  {
   "cell_type": "code",
   "execution_count": 19,
   "id": "6a4372aa",
   "metadata": {},
   "outputs": [],
   "source": [
    "def draw_rect(input_img, face):\n",
    "    '''it will draw the rectangle around the detected face on the image/video'''\n",
    "    (x, y, w, h) = face\n",
    "    cv2.rectangle(input_img, (x, y), (x+w, y+h), (0, 255, 0), thickness=3)"
   ]
  },
  {
   "cell_type": "markdown",
   "id": "0b315877",
   "metadata": {},
   "source": [
    "#### Place text on the detect image/face"
   ]
  },
  {
   "cell_type": "code",
   "execution_count": 20,
   "id": "766c0d7f",
   "metadata": {},
   "outputs": [],
   "source": [
    "def place_text(input_img, label_name, x, y):\n",
    "    '''it will try to place a name of the detected person above the rectangle that surrounds the face'''\n",
    "    cv2.putText(input_img, label_name, (x, y), cv2.FONT_HERSHEY_DUPLEX, 1, (0, 255, 0), 3)"
   ]
  },
  {
   "cell_type": "code",
   "execution_count": null,
   "id": "cddbfa8b",
   "metadata": {},
   "outputs": [],
   "source": []
  },
  {
   "cell_type": "code",
   "execution_count": null,
   "id": "36db4713",
   "metadata": {},
   "outputs": [],
   "source": []
  }
 ],
 "metadata": {
  "kernelspec": {
   "display_name": "Python 3",
   "language": "python",
   "name": "python3"
  },
  "language_info": {
   "codemirror_mode": {
    "name": "ipython",
    "version": 3
   },
   "file_extension": ".py",
   "mimetype": "text/x-python",
   "name": "python",
   "nbconvert_exporter": "python",
   "pygments_lexer": "ipython3",
   "version": "3.8.8"
  }
 },
 "nbformat": 4,
 "nbformat_minor": 5
}
