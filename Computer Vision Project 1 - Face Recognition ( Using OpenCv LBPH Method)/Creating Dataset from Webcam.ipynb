{
 "cells": [
  {
   "cell_type": "code",
   "execution_count": 1,
   "id": "19fac5da",
   "metadata": {},
   "outputs": [],
   "source": [
    "import cv2\n",
    "import sys"
   ]
  },
  {
   "cell_type": "code",
   "execution_count": 2,
   "id": "aed8440e",
   "metadata": {},
   "outputs": [],
   "source": [
    "cpt = 0 # count"
   ]
  },
  {
   "cell_type": "code",
   "execution_count": 3,
   "id": "a3c833b1",
   "metadata": {},
   "outputs": [],
   "source": [
    "vidStream = cv2.VideoCapture(0)\n",
    "# while the camera is on, take images\n",
    "while True:\n",
    "    ret, frame = vidStream.read()\n",
    "    # show the image\n",
    "    cv2.imshow('Test Frame', frame)\n",
    "    \n",
    "    cv2.imwrite(r\"dataset\\images\\0\\image%04i.jpg\" %cpt, frame)\n",
    "    # after taking pictures every second, increase the number\n",
    "    cpt +=1\n",
    "    # if i press the q it shoudld stop taking pictures\n",
    "    if cv2.waitKey(10) == ord('q'):\n",
    "        break"
   ]
  },
  {
   "cell_type": "code",
   "execution_count": null,
   "id": "073717b6",
   "metadata": {},
   "outputs": [],
   "source": []
  }
 ],
 "metadata": {
  "kernelspec": {
   "display_name": "Python 3",
   "language": "python",
   "name": "python3"
  },
  "language_info": {
   "codemirror_mode": {
    "name": "ipython",
    "version": 3
   },
   "file_extension": ".py",
   "mimetype": "text/x-python",
   "name": "python",
   "nbconvert_exporter": "python",
   "pygments_lexer": "ipython3",
   "version": "3.8.8"
  }
 },
 "nbformat": 4,
 "nbformat_minor": 5
}
